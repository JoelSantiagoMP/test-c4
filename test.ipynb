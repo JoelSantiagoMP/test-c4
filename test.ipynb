{
 "cells": [
  {
   "cell_type": "code",
   "execution_count": 78,
   "metadata": {},
   "outputs": [
    {
     "name": "stdout",
     "output_type": "stream",
     "text": [
      "2000\n",
      "2000\n"
     ]
    },
    {
     "ename": "ValueError",
     "evalue": "invalid literal for int() with base 10: ''",
     "output_type": "error",
     "traceback": [
      "\u001b[0;31m---------------------------------------------------------------------------\u001b[0m",
      "\u001b[0;31mValueError\u001b[0m                                Traceback (most recent call last)",
      "Cell \u001b[0;32mIn[78], line 46\u001b[0m\n\u001b[1;32m     41\u001b[0m \u001b[38;5;28;01mdef\u001b[39;00m\u001b[38;5;250m \u001b[39m\u001b[38;5;21mconsultaSaldo\u001b[39m(saldo):\n\u001b[1;32m     42\u001b[0m     \u001b[38;5;28mprint\u001b[39m(\u001b[38;5;124m\"\u001b[39m\u001b[38;5;124mEl saldo actual es:\u001b[39m\u001b[38;5;124m\"\u001b[39m, saldo)\n\u001b[0;32m---> 46\u001b[0m \u001b[38;5;28mprint\u001b[39m(\u001b[43mcomandos\u001b[49m\u001b[43m(\u001b[49m\u001b[43m)\u001b[49m)\n",
      "Cell \u001b[0;32mIn[78], line 17\u001b[0m, in \u001b[0;36mcomandos\u001b[0;34m()\u001b[0m\n\u001b[1;32m     15\u001b[0m \u001b[38;5;28;01mwhile\u001b[39;00m x \u001b[38;5;241m==\u001b[39m \u001b[38;5;241m2\u001b[39m:\n\u001b[1;32m     16\u001b[0m     \u001b[38;5;28mprint\u001b[39m(depositarDinero(saldo))\n\u001b[0;32m---> 17\u001b[0m     x \u001b[38;5;241m=\u001b[39m \u001b[38;5;28;43mint\u001b[39;49m\u001b[43m(\u001b[49m\u001b[38;5;28;43minput\u001b[39;49m\u001b[43m(\u001b[49m\u001b[38;5;124;43m\"\u001b[39;49m\u001b[38;5;124;43mSi desea consultar saldo, escriba 1, si desea depositar dinero escriba 2, si desea retirarlo escriba 3, si desea salir escriba 0\u001b[39;49m\u001b[38;5;124;43m\"\u001b[39;49m\u001b[43m)\u001b[49m\u001b[43m)\u001b[49m\n\u001b[1;32m     18\u001b[0m \u001b[38;5;28;01mwhile\u001b[39;00m x \u001b[38;5;241m==\u001b[39m \u001b[38;5;241m3\u001b[39m:\n\u001b[1;32m     19\u001b[0m     \u001b[38;5;28mprint\u001b[39m(retirarDinero(saldo) \u001b[38;5;241m+\u001b[39m saldo)\n",
      "\u001b[0;31mValueError\u001b[0m: invalid literal for int() with base 10: ''"
     ]
    }
   ],
   "source": [
    "#consultar saldo retirar dinero, depositar dinero y salir\n",
    "saldo = 1000\n",
    "saldo2 = 0\n",
    "\n",
    "\n",
    "def comandos():\n",
    "    x = int(input(\"Si desea consultar saldo, escriba 1, si desea depositar dinero escriba 2, si desea retirarlo escriba 3, si desea salir escriba 0\"))\n",
    "    \n",
    "    while x == 0:\n",
    "        print(\"Saliendo del sistema\")\n",
    "        break\n",
    "    while x == 1:\n",
    "        print(consultaSaldo(saldo) )\n",
    "        x = int(input(\"Si desea consultar saldo, escriba 1, si desea depositar dinero escriba 2, si desea retirarlo escriba 3, si desea salir escriba 0\"))\n",
    "    while x == 2:\n",
    "        print(depositarDinero(saldo))\n",
    "        x = int(input(\"Si desea consultar saldo, escriba 1, si desea depositar dinero escriba 2, si desea retirarlo escriba 3, si desea salir escriba 0\"))\n",
    "    while x == 3:\n",
    "        print(retirarDinero(saldo) + saldo)\n",
    "        x = int(input(\"Si desea consultar saldo, escriba 1, si desea depositar dinero escriba 2, si desea retirarlo escriba 3, si desea salir escriba 0\"))        \n",
    "\n",
    "def depositarDinero(saldo):\n",
    "    \n",
    "    n = int(input(\"Ingrese la cantidad de dinero a depositar\"))\n",
    "    while n < 0:\n",
    "        print(\"Lo siento, cantidad inválida\")\n",
    "        n = int(input(\"Ingrese la cantidad de dinero a depositar\"))\n",
    "    saldo = saldo + n\n",
    "    return saldo\n",
    "\n",
    "\n",
    "def retirarDinero(saldo):\n",
    "    \n",
    "    valorretiro = int(input(\"Ingrese la cantidad de dinero a retirar\"))\n",
    "    while valorretiro > saldo: \n",
    "        print(\"Lo siento, no puedes retirar más dinero del que posees en tu cuenta\")\n",
    "        valorretiro = int(input(\"Ingrese la cantidad de dinero a retirar\"))\n",
    "    saldo -= valorretiro\n",
    "    return saldo\n",
    "\n",
    "def consultaSaldo(saldo):\n",
    "    print(\"El saldo actual es:\", saldo)\n",
    "    \n",
    "\n",
    "\n",
    "print(comandos())\n",
    "\n",
    "\n",
    "\n",
    "\n"
   ]
  }
 ],
 "metadata": {
  "kernelspec": {
   "display_name": "Python 3",
   "language": "python",
   "name": "python3"
  },
  "language_info": {
   "codemirror_mode": {
    "name": "ipython",
    "version": 3
   },
   "file_extension": ".py",
   "mimetype": "text/x-python",
   "name": "python",
   "nbconvert_exporter": "python",
   "pygments_lexer": "ipython3",
   "version": "3.10.12"
  }
 },
 "nbformat": 4,
 "nbformat_minor": 2
}
